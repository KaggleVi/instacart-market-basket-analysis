{
 "cells": [
  {
   "cell_type": "code",
   "execution_count": null,
   "metadata": {
    "collapsed": true
   },
   "outputs": [],
   "source": [
    "import psycopg2\n",
    "\n",
    "#conn = psycopg2.connect(\"dbname=kaggle_instacart_basket_analysis user=postgres host=localhost port=\")\n",
    "conn = psycopg2.connect(\n",
    "    dbname=\"kaggle_instacart_basket_analysis\", \n",
    "    user=\"postgres\", \n",
    "    password=\"123\",\n",
    "    host=\"localhost\",\n",
    "    port=5432\n",
    ")\n",
    "cur = conn.cursor()\n",
    "\n",
    "users_ids = [\n",
    "    206208,\n",
    "]\n",
    "\n",
    "\n",
    "def get_data_by_ids(ids):\n",
    "    cur.execute(\"select * from users_products_stats where user_id=206208\")\n",
    "    for row in cur.fetchall():\n",
    "        print(row)\n",
    "\n",
    "\n",
    "data = get_data_by_ids(users_ids)\n",
    "\n",
    "print(data)\n"
   ]
  },
  {
   "cell_type": "markdown",
   "metadata": {},
   "source": [
    "#### Таблица данных для каждого пользователя\n",
    "\n",
    "|product_id|wd0_00|wd0_01|...|wd0_24|wd1_00|wd1_01|...|wd1_24|\n",
    "|---|---|---|---|---|---|---|---|\n",
    "|1|1|0|...|0|0|0|0|0|\n",
    "|2|0|0|...|0|0|0|0|0|\n",
    "|...|...|...|...|...|...|...|...|...|\n",
    "|n|0|0|...|0|0|0|0|0|\n",
    "\n",
    "__product_id__ - идентификатор продукта\n",
    "\n",
    "__wd0_00__ - [день недели (0-воскресенье...6-суббота)]\\_[час 00-24]"
   ]
  },
  {
   "cell_type": "code",
   "execution_count": null,
   "metadata": {
    "collapsed": true
   },
   "outputs": [],
   "source": []
  }
 ],
 "metadata": {
  "kernelspec": {
   "display_name": "Python 3",
   "language": "python",
   "name": "python3"
  },
  "language_info": {
   "codemirror_mode": {
    "name": "ipython",
    "version": 3
   },
   "file_extension": ".py",
   "mimetype": "text/x-python",
   "name": "python",
   "nbconvert_exporter": "python",
   "pygments_lexer": "ipython3",
   "version": "3.5.2"
  }
 },
 "nbformat": 4,
 "nbformat_minor": 1
}
